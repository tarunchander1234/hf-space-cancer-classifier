{
 "cells": [
  {
   "cell_type": "code",
   "execution_count": 2,
   "metadata": {},
   "outputs": [
    {
     "name": "stderr",
     "output_type": "stream",
     "text": [
      "d:\\Python_venv\\.venv\\lib\\site-packages\\tqdm\\auto.py:21: TqdmWarning: IProgress not found. Please update jupyter and ipywidgets. See https://ipywidgets.readthedocs.io/en/stable/user_install.html\n",
      "  from .autonotebook import tqdm as notebook_tqdm\n"
     ]
    },
    {
     "name": "stdout",
     "output_type": "stream",
     "text": [
      "WARNING:tensorflow:From d:\\Python_venv\\.venv\\lib\\site-packages\\tf_keras\\src\\losses.py:2976: The name tf.losses.sparse_softmax_cross_entropy is deprecated. Please use tf.compat.v1.losses.sparse_softmax_cross_entropy instead.\n",
      "\n"
     ]
    }
   ],
   "source": [
    "import torch\n",
    "from sklearn.model_selection import train_test_split\n",
    "from sklearn.preprocessing import MultiLabelBinarizer\n",
    "from sklearn.metrics import accuracy_score, f1_score,  precision_score, recall_score, confusion_matrix, roc_curve, auc\n",
    "from transformers import AutoTokenizer, AutoModelForSequenceClassification, TrainingArguments, Trainer\n",
    "from peft import get_peft_model, LoraConfig, TaskType\n",
    "from datasets import Dataset\n",
    "import numpy as np\n",
    "import matplotlib.pyplot as plt\n",
    "import pandas as pd\n"
   ]
  },
  {
   "cell_type": "code",
   "execution_count": 3,
   "metadata": {},
   "outputs": [
    {
     "name": "stdout",
     "output_type": "stream",
     "text": [
      "            ID                                     Title_Abstract   Label\n",
      "0  ID:30872385  Title:Comparison of methodologies for the dete...  Cancer\n",
      "1  ID:30873683  Title:Tumour biomarkers-Tracing the molecular ...  Cancer\n",
      "2  ID:30874851  Title:Pomalidomide, cyclophosphamide, and dexa...  Cancer\n",
      "3  ID:30875581  Title:Aggressive variants of prostate cancer -...  Cancer\n",
      "4  ID:30875950  Title:Circulating Tumour Cells (CTC), Head and...  Cancer\n"
     ]
    }
   ],
   "source": [
    "\n",
    "# Path to the pipe-delimited CSV file\n",
    "file_path = 'combined_file.csv'  # Replace with your file path\n",
    "\n",
    "# Read the pipe-delimited file into a DataFrame\n",
    "df_file = pd.read_csv(file_path, sep='|')\n",
    "\n",
    "# Display the first few rows of the DataFrame\n",
    "print(df_file.head())\n",
    "\n",
    "df = df_file.iloc[:, 1:].copy()"
   ]
  },
  {
   "cell_type": "code",
   "execution_count": 4,
   "metadata": {},
   "outputs": [
    {
     "data": {
      "text/plain": [
       "990    [Non-Cancer]\n",
       "991    [Non-Cancer]\n",
       "992    [Non-Cancer]\n",
       "993    [Non-Cancer]\n",
       "994    [Non-Cancer]\n",
       "995    [Non-Cancer]\n",
       "996    [Non-Cancer]\n",
       "997    [Non-Cancer]\n",
       "998    [Non-Cancer]\n",
       "999    [Non-Cancer]\n",
       "Name: Label_array, dtype: object"
      ]
     },
     "execution_count": 4,
     "metadata": {},
     "output_type": "execute_result"
    }
   ],
   "source": [
    "df['Label_array'] = df['Label'].apply(lambda x: [x])\n",
    "df[\"Label_array\"].tail(10) "
   ]
  },
  {
   "cell_type": "code",
   "execution_count": 5,
   "metadata": {},
   "outputs": [],
   "source": [
    "# === 2. Encode Labels ===\n",
    "mlb = MultiLabelBinarizer()\n",
    "df['label_ids'] = mlb.fit_transform(df['Label_array']).astype(np.float32).tolist()"
   ]
  },
  {
   "cell_type": "code",
   "execution_count": null,
   "metadata": {},
   "outputs": [],
   "source": [
    "#df[\"Label_array\"].value_counts()"
   ]
  },
  {
   "cell_type": "code",
   "execution_count": 104,
   "metadata": {},
   "outputs": [
    {
     "name": "stdout",
     "output_type": "stream",
     "text": [
      "                                      Title_Abstract   Label Label_array  \\\n",
      "0  Title:Comparison of methodologies for the dete...  Cancer    [Cancer]   \n",
      "1  Title:Tumour biomarkers-Tracing the molecular ...  Cancer    [Cancer]   \n",
      "2  Title:Pomalidomide, cyclophosphamide, and dexa...  Cancer    [Cancer]   \n",
      "3  Title:Aggressive variants of prostate cancer -...  Cancer    [Cancer]   \n",
      "4  Title:Circulating Tumour Cells (CTC), Head and...  Cancer    [Cancer]   \n",
      "\n",
      "    label_ids  \n",
      "0  [1.0, 0.0]  \n",
      "1  [1.0, 0.0]  \n",
      "2  [1.0, 0.0]  \n",
      "3  [1.0, 0.0]  \n",
      "4  [1.0, 0.0]  \n"
     ]
    }
   ],
   "source": [
    "print(df.head())"
   ]
  },
  {
   "cell_type": "code",
   "execution_count": 105,
   "metadata": {},
   "outputs": [
    {
     "data": {
      "text/plain": [
       "0      [1.0, 0.0]\n",
       "1      [1.0, 0.0]\n",
       "2      [1.0, 0.0]\n",
       "3      [1.0, 0.0]\n",
       "4      [1.0, 0.0]\n",
       "          ...    \n",
       "995    [0.0, 1.0]\n",
       "996    [0.0, 1.0]\n",
       "997    [0.0, 1.0]\n",
       "998    [0.0, 1.0]\n",
       "999    [0.0, 1.0]\n",
       "Name: label_ids, Length: 1000, dtype: object"
      ]
     },
     "execution_count": 105,
     "metadata": {},
     "output_type": "execute_result"
    }
   ],
   "source": [
    "df['label_ids'] "
   ]
  },
  {
   "cell_type": "code",
   "execution_count": 106,
   "metadata": {},
   "outputs": [
    {
     "data": {
      "text/plain": [
       "2"
      ]
     },
     "execution_count": 106,
     "metadata": {},
     "output_type": "execute_result"
    }
   ],
   "source": [
    "len(mlb.classes_)"
   ]
  },
  {
   "cell_type": "code",
   "execution_count": 6,
   "metadata": {},
   "outputs": [],
   "source": [
    "# sample(frac=1) to reshuffle the DataFrame rows\n",
    "# Resets the index after shuffling.\n",
    "# drop=True ensures the old index is not added as a new column.\n",
    "\n",
    "df = df.sample(frac=1).reset_index(drop=True)"
   ]
  },
  {
   "cell_type": "code",
   "execution_count": 108,
   "metadata": {},
   "outputs": [],
   "source": [
    "#df = df.iloc[:100].reset_index(drop=True)"
   ]
  },
  {
   "cell_type": "code",
   "execution_count": 7,
   "metadata": {},
   "outputs": [
    {
     "data": {
      "text/plain": [
       "label_ids\n",
       "[1.0, 0.0]    500\n",
       "[0.0, 1.0]    500\n",
       "Name: count, dtype: int64"
      ]
     },
     "execution_count": 7,
     "metadata": {},
     "output_type": "execute_result"
    }
   ],
   "source": [
    "df[\"label_ids\"].value_counts()"
   ]
  },
  {
   "cell_type": "code",
   "execution_count": 110,
   "metadata": {},
   "outputs": [
    {
     "data": {
      "text/plain": [
       "0    [1.0, 0.0]\n",
       "1    [0.0, 1.0]\n",
       "2    [1.0, 0.0]\n",
       "3    [0.0, 1.0]\n",
       "4    [0.0, 1.0]\n",
       "5    [0.0, 1.0]\n",
       "6    [1.0, 0.0]\n",
       "7    [0.0, 1.0]\n",
       "8    [0.0, 1.0]\n",
       "9    [1.0, 0.0]\n",
       "Name: label_ids, dtype: object"
      ]
     },
     "execution_count": 110,
     "metadata": {},
     "output_type": "execute_result"
    }
   ],
   "source": [
    "df[\"label_ids\"].head(10)\n"
   ]
  },
  {
   "cell_type": "code",
   "execution_count": 8,
   "metadata": {},
   "outputs": [
    {
     "name": "stderr",
     "output_type": "stream",
     "text": [
      "Map: 100%|██████████| 800/800 [00:00<00:00, 3686.69 examples/s]\n",
      "Map: 100%|██████████| 200/200 [00:00<00:00, 3349.78 examples/s]\n"
     ]
    }
   ],
   "source": [
    "\n",
    "# === 3. Train/Test Split ===\n",
    "train_df, test_df = train_test_split(df, test_size=0.2, random_state=42)\n",
    "\n",
    "# === 4. Tokenizer and Dataset ===\n",
    "model_name = \"distilbert-base-uncased\"\n",
    "# model_name = \"bert-base-uncased\"\n",
    "tokenizer = AutoTokenizer.from_pretrained(model_name)\n",
    "\n",
    "def tokenize(example):\n",
    "    return tokenizer(example['Title_Abstract'], truncation=True, padding=True)\n",
    "\n",
    "train_dataset = Dataset.from_pandas(train_df[['Title_Abstract', 'label_ids']])\n",
    "test_dataset = Dataset.from_pandas(test_df[['Title_Abstract', 'label_ids']])\n",
    "\n",
    "train_dataset = train_dataset.map(tokenize, batched=True)\n",
    "test_dataset = test_dataset.map(tokenize, batched=True)"
   ]
  },
  {
   "cell_type": "code",
   "execution_count": 175,
   "metadata": {},
   "outputs": [
    {
     "name": "stderr",
     "output_type": "stream",
     "text": [
      "Token indices sequence length is longer than the specified maximum sequence length for this model (572 > 512). Running this sequence through the model will result in indexing errors\n"
     ]
    },
    {
     "name": "stdout",
     "output_type": "stream",
     "text": [
      "Total tokens in the training dataset: 279746\n"
     ]
    }
   ],
   "source": [
    "total_tokens = 0\n",
    "for item in train_dataset:\n",
    "    text = item[\"Title_Abstract\"]  \n",
    "    tokens = tokenizer(text, truncation=False, padding=False)[\"input_ids\"]\n",
    "    total_tokens += len(tokens)\n",
    "\n",
    "print(f\"Total tokens in the training dataset: {total_tokens}\")"
   ]
  },
  {
   "cell_type": "code",
   "execution_count": 112,
   "metadata": {},
   "outputs": [
    {
     "name": "stdout",
     "output_type": "stream",
     "text": [
      "{'Title_Abstract': ['Title:EPIK-O/ENGOT-OV61: alpelisib plus olaparib vs cytotoxic chemotherapy in high-grade serous ovarian cancer (phase III study).Abstract:Patients with platinum-resistant or -refractory high-grade serous ovarian cancer (HGSOC) have a poor prognosis, and their management represents a substantial unmet medical need. Preclinical data and results from a phase Ib trial demonstrated the efficacy and tolerability of the combination of the α-specific phosphatidylinositol-3-kinase (PI3K) inhibitor alpelisib plus the poly(adenosine diphosphate-ribose) polymerase (PARP) inhibitor olaparib in platinum-resistant, non-<i>BRCA</i>-mutated ovarian cancer. Here, we describe the study design and rationale for the phase III, multicenter, open-label, randomized, active-controlled EPIK-O/ENGOT-OV61 trial investigating alpelisib in combination with olaparib compared with standard-of-care chemotherapy in patients with platinum-resistant or -refractory HGSOC with no germline <i>BRCA</i> mutation. Progression-free survival (blinded independent review committee) is the primary end point. Overall survival is a key secondary end point. <b>Clinical Trial Registration:</b>: NCT04729387 (ClinicalTrials.gov).', 'Title:Liquid Biopsies for Ovarian Carcinoma: How Blood Tests May Improve the Clinical Management of a Deadly Disease.Abstract:Ovarian cancers (OvC) are frequent, with more than 22,000 new cases each year for 14,000 deaths in the United States. Except for patients with BRCA1 or BRCA2 mutations, diagnostic methods, prognostic tools, and therapeutic strategies have not much improved in the last two decades. High throughput tumor molecular analyses have identified important alterations involved in ovarian carcinoma growth and spreading. However, these data have not modified the clinical management of most of patients. Moreover, tumor sample collection requires invasive procedures not adapted to objectives, such as the screening, prediction, or assessment of treatment efficacy, monitoring of residual disease, and early diagnosis of relapse. In recent years, circulating tumor biomarkers (also known as \"liquid biopsies\") such as circulating tumor cells, circulating nucleotides (DNA or miRNA), or extracellular vesicles, have been massively explored through various indications, platforms, and goals, but their use has not yet been validated in routine practice. This review describes the methods of analysis and results related to liquid biopsies for ovarian epithelial cancer. The different settings that a patient can go through during her journey with OvC are explored: screening and early diagnosis, prognosis, prediction of response to systemic therapies for advanced stages, and monitoring of residual subclinical disease.', 'Title:[The value of detecting MLL gene rearrangement in children with acute monocytic leukemia].Abstract:OBJECTIVE: To assess the value of detecting the rearrangement of mixed lineage leukemia (MLL) gene in children with acute mononuclear leukemia (AML). METHODS: Dual-color fluorescence in situ hybridization (FISH) probe was used to detect MLL gene rearrangement in 68 children with AML by interphase FISH. The results were compared with that of conventional G banding chromosomal analysis. RESULTS: Among the 68 children, 28 were detected by FISH with positive hybridization signals, with a detection rate for MLL gene rearrangement being 41.2%. Twelve (17.6%) reciprocal translocations and interruption of 11q23 were detected by G banding analysis. The difference in the detection rates between the two methods was statistically significant (P< 0.05). CONCLUSION: The sensitivity of FISH assay for MLL gene rearrangement was significantly higher than that of G banding chromosomal karyotyping. Combined use of both methods for children with AML can improve the detection rate of MLL gene rearrangements and provide crucial clues for clinical diagnosis, treatment and prognosis.', 'Title:Rapid and efficient conversion of integration-free human induced pluripotent stem cells to GMP-grade culture conditions.Abstract:Data suggest that clinical applications of human induced pluripotent stem cells (hiPSCs) will be realized. Nonetheless, clinical applications will require hiPSCs that are free of exogenous DNA and that can be manufactured through Good Manufacturing Practice (GMP). Optimally, derivation of hiPSCs should be rapid and efficient in order to minimize manipulations, reduce potential for accumulation of mutations and minimize financial costs. Previous studies reported the use of modified synthetic mRNAs to reprogram fibroblasts to a pluripotent state. Here, we provide an optimized, fully chemically defined and feeder-free protocol for the derivation of hiPSCs using synthetic mRNAs. The protocol results in derivation of fully reprogrammed hiPSC lines from adult dermal fibroblasts in less than two weeks. The hiPSC lines were successfully tested for their identity, purity, stability and safety at a GMP facility and cryopreserved. To our knowledge, as a proof of principle, these are the first integration-free iPSCs lines that were reproducibly generated through synthetic mRNA reprogramming that could be putatively used for clinical purposes.', 'Title:Mutational spectrum and phenotypic variability of Duchenne muscular dystrophy and related disorders in a Bangladeshi population.Abstract:Duchenne muscular dystrophy (DMD) is a severe rare neuromuscular disorder caused by mutations in the X-linked dystrophin gene. Several mutations have been identified, yet the full mutational spectrum, and their phenotypic consequences, will require genotyping across different populations. To this end, we undertook the first detailed genotype and phenotype characterization of DMD in the Bangladeshi population. We investigated the rare mutational and phenotypic spectrum of the DMD gene in 36 DMD-suspected Bangladeshi participants using an economically affordable diagnostic strategy involving initial screening for exonic deletions in the DMD gene via multiplex PCR, followed by testing PCR-negative patients for mutations using whole exome sequencing. The deletion mapping identified two critical DMD gene hotspot regions (near proximal and distal ends, spanning exons 8-17 and exons 45-53, respectively) that comprised 95% (21/22) of the deletions for this population cohort. From our exome analysis, we detected two novel pathogenic hemizygous mutations in exons 21 and 42 of the DMD gene, and novel pathogenic recessive and loss of function variants in four additional genes: SGCD, DYSF, COL6A3, and DOK7. Our phenotypic analysis showed that DMD suspected participants presented diverse phenotypes according to the location of the mutation and which gene was impacted. Our study provides ethnicity specific new insights into both clinical and genetic aspects of DMD.'], 'label_ids': [[1.0, 0.0], [1.0, 0.0], [1.0, 0.0], [0.0, 1.0], [0.0, 1.0]], '__index_level_0__': [29, 535, 695, 557, 836], 'input_ids': [[101, 2516, 1024, 4958, 5480, 1011, 1051, 1013, 25540, 4140, 1011, 1051, 2615, 2575, 2487, 1024, 2632, 11880, 17417, 2497, 4606, 19330, 22068, 3089, 2497, 5443, 22330, 3406, 3406, 9048, 2278, 27144, 1999, 2152, 1011, 3694, 14262, 3560, 1051, 10755, 2937, 4456, 1006, 4403, 3523, 2817, 1007, 1012, 10061, 1024, 5022, 2007, 8899, 1011, 13070, 2030, 1011, 25416, 22648, 7062, 2152, 1011, 3694, 14262, 3560, 1051, 10755, 2937, 4456, 1006, 1044, 5620, 10085, 1007, 2031, 1037, 3532, 4013, 26745, 6190, 1010, 1998, 2037, 2968, 5836, 1037, 6937, 4895, 11368, 2966, 2342, 1012, 3653, 20464, 5498, 9289, 2951, 1998, 3463, 2013, 1037, 4403, 21307, 3979, 7645, 1996, 21150, 1998, 2000, 3917, 8010, 1997, 1996, 5257, 1997, 1996, 1155, 1011, 3563, 6887, 2891, 21890, 3775, 5149, 25226, 28032, 4747, 1011, 1017, 1011, 21903, 1006, 14255, 2509, 2243, 1007, 24054, 2632, 11880, 17417, 2497, 4606, 1996, 26572, 1006, 16298, 20049, 2638, 16510, 15006, 24556, 1011, 19395, 9232, 1007, 17782, 11022, 1006, 11968, 2361, 1007, 24054, 19330, 22068, 3089, 2497, 1999, 8899, 1011, 13070, 1010, 2512, 1011, 1026, 1045, 1028, 7987, 3540, 1026, 1013, 1045, 1028, 1011, 14163, 16238, 1051, 10755, 2937, 4456, 1012, 2182, 1010, 2057, 6235, 1996, 2817, 2640, 1998, 11581, 2063, 2005, 1996, 4403, 3523, 1010, 4800, 13013, 2121, 1010, 2330, 1011, 3830, 1010, 6721, 3550, 1010, 3161, 1011, 4758, 4958, 5480, 1011, 1051, 1013, 25540, 4140, 1011, 1051, 2615, 2575, 2487, 3979, 11538, 2632, 11880, 17417, 2497, 1999, 5257, 2007, 19330, 22068, 3089, 2497, 4102, 2007, 3115, 1011, 1997, 1011, 2729, 27144, 1999, 5022, 2007, 8899, 1011, 13070, 2030, 1011, 25416, 22648, 7062, 1044, 5620, 10085, 2007, 2053, 16216, 10867, 4179, 1026, 1045, 1028, 7987, 3540, 1026, 1013, 1045, 1028, 16221, 1012, 14967, 1011, 2489, 7691, 1006, 20641, 2981, 3319, 2837, 1007, 2003, 1996, 3078, 2203, 2391, 1012, 3452, 7691, 2003, 1037, 3145, 3905, 2203, 2391, 1012, 1026, 1038, 1028, 6612, 3979, 8819, 1024, 1026, 1013, 1038, 1028, 1024, 13316, 2102, 2692, 22610, 24594, 22025, 2581, 1006, 6612, 18886, 9777, 1012, 18079, 1007, 1012, 102, 0, 0, 0, 0, 0, 0, 0, 0, 0, 0, 0, 0, 0, 0, 0, 0, 0, 0, 0, 0, 0, 0, 0, 0, 0, 0, 0, 0, 0, 0, 0, 0, 0, 0, 0, 0, 0, 0, 0, 0, 0, 0, 0, 0, 0, 0, 0, 0, 0, 0, 0, 0, 0, 0, 0, 0, 0, 0, 0, 0, 0, 0, 0, 0, 0, 0, 0, 0, 0, 0, 0, 0, 0, 0, 0, 0, 0, 0, 0, 0, 0, 0, 0, 0, 0, 0, 0, 0, 0, 0, 0, 0, 0, 0, 0, 0, 0, 0, 0, 0, 0, 0, 0, 0, 0, 0, 0, 0, 0, 0, 0, 0, 0, 0, 0, 0, 0, 0, 0, 0, 0, 0, 0, 0, 0, 0, 0, 0, 0, 0, 0, 0, 0, 0, 0, 0, 0, 0, 0, 0, 0, 0, 0, 0, 0, 0, 0, 0, 0, 0, 0, 0, 0, 0, 0, 0, 0, 0, 0, 0, 0, 0, 0, 0, 0, 0, 0, 0, 0, 0, 0, 0, 0, 0, 0, 0, 0], [101, 2516, 1024, 6381, 16012, 4523, 3111, 2005, 1051, 10755, 2937, 2482, 21081, 2863, 1024, 2129, 2668, 5852, 2089, 5335, 1996, 6612, 2968, 1997, 1037, 9252, 4295, 1012, 10061, 1024, 1051, 10755, 2937, 25409, 1006, 1051, 25465, 1007, 2024, 6976, 1010, 2007, 2062, 2084, 2570, 1010, 2199, 2047, 3572, 2169, 2095, 2005, 2403, 1010, 2199, 6677, 1999, 1996, 2142, 2163, 1012, 3272, 2005, 5022, 2007, 7987, 3540, 2487, 2030, 7987, 3540, 2475, 14494, 1010, 16474, 4725, 1010, 4013, 26745, 10074, 5906, 1010, 1998, 17261, 9942, 2031, 2025, 2172, 5301, 1999, 1996, 2197, 2048, 5109, 1012, 2152, 2083, 18780, 13656, 8382, 16478, 2031, 4453, 2590, 16705, 2920, 1999, 1051, 10755, 2937, 2482, 21081, 2863, 3930, 1998, 9359, 1012, 2174, 1010, 2122, 2951, 2031, 2025, 6310, 1996, 6612, 2968, 1997, 2087, 1997, 5022, 1012, 9308, 1010, 13656, 7099, 3074, 5942, 17503, 8853, 2025, 5967, 2000, 11100, 1010, 2107, 2004, 1996, 11326, 1010, 17547, 1010, 2030, 7667, 1997, 3949, 21150, 1010, 8822, 1997, 21961, 4295, 1010, 1998, 2220, 11616, 1997, 2128, 2721, 29251, 1012, 1999, 3522, 2086, 1010, 22458, 13656, 16012, 10665, 2545, 1006, 2036, 2124, 2004, 1000, 6381, 16012, 4523, 3111, 1000, 1007, 2107, 2004, 22458, 13656, 4442, 1010, 22458, 16371, 14321, 26601, 2015, 1006, 6064, 2030, 14719, 2532, 1007, 1010, 2030, 4469, 16882, 2310, 19570, 4244, 1010, 2031, 2042, 5294, 2135, 10641, 2083, 2536, 24936, 1010, 7248, 1010, 1998, 3289, 1010, 2021, 2037, 2224, 2038, 2025, 2664, 2042, 9398, 4383, 1999, 9410, 3218, 1012, 2023, 3319, 5577, 1996, 4725, 1997, 4106, 1998, 3463, 3141, 2000, 6381, 16012, 4523, 3111, 2005, 1051, 10755, 2937, 4958, 8939, 24587, 4456, 1012, 1996, 2367, 10906, 2008, 1037, 5776, 2064, 2175, 2083, 2076, 2014, 4990, 2007, 1051, 25465, 2024, 10641, 1024, 11326, 1998, 2220, 11616, 1010, 4013, 26745, 6190, 1010, 17547, 1997, 3433, 2000, 22575, 1996, 2527, 13046, 2005, 3935, 5711, 1010, 1998, 8822, 1997, 21961, 4942, 20464, 5498, 9289, 4295, 1012, 102, 0, 0, 0, 0, 0, 0, 0, 0, 0, 0, 0, 0, 0, 0, 0, 0, 0, 0, 0, 0, 0, 0, 0, 0, 0, 0, 0, 0, 0, 0, 0, 0, 0, 0, 0, 0, 0, 0, 0, 0, 0, 0, 0, 0, 0, 0, 0, 0, 0, 0, 0, 0, 0, 0, 0, 0, 0, 0, 0, 0, 0, 0, 0, 0, 0, 0, 0, 0, 0, 0, 0, 0, 0, 0, 0, 0, 0, 0, 0, 0, 0, 0, 0, 0, 0, 0, 0, 0, 0, 0, 0, 0, 0, 0, 0, 0, 0, 0, 0, 0, 0, 0, 0, 0, 0, 0, 0, 0, 0, 0, 0, 0, 0, 0, 0, 0, 0, 0, 0, 0, 0, 0, 0, 0, 0, 0, 0, 0, 0, 0, 0, 0, 0, 0, 0, 0, 0, 0, 0, 0, 0, 0, 0, 0, 0, 0, 0, 0, 0, 0, 0, 0, 0, 0, 0, 0, 0, 0, 0, 0, 0, 0, 0, 0, 0, 0, 0, 0, 0, 0, 0, 0, 0, 0, 0, 0, 0, 0, 0, 0, 0, 0, 0, 0, 0, 0, 0, 0, 0, 0, 0, 0, 0, 0, 0], [101, 2516, 1024, 1031, 1996, 3643, 1997, 25952, 19875, 2140, 4962, 4373, 24388, 13665, 1999, 2336, 2007, 11325, 18847, 5666, 4588, 25468, 1033, 1012, 10061, 1024, 7863, 1024, 2000, 14358, 1996, 3643, 1997, 25952, 1996, 4373, 24388, 13665, 1997, 3816, 13321, 25468, 1006, 19875, 2140, 1007, 4962, 1999, 2336, 2007, 11325, 18847, 11231, 14321, 2906, 25468, 1006, 2572, 2140, 1007, 1012, 4725, 1024, 7037, 1011, 3609, 19857, 20030, 1999, 26179, 8893, 3989, 1006, 3869, 1007, 15113, 2001, 2109, 2000, 11487, 19875, 2140, 4962, 4373, 24388, 13665, 1999, 6273, 2336, 2007, 2572, 2140, 2011, 6970, 21890, 3366, 3869, 1012, 1996, 3463, 2020, 4102, 2007, 2008, 1997, 7511, 1043, 2316, 2075, 10381, 21716, 27642, 4106, 1012, 3463, 1024, 2426, 1996, 6273, 2336, 1010, 2654, 2020, 11156, 2011, 3869, 2007, 3893, 8893, 3989, 7755, 1010, 2007, 1037, 10788, 3446, 2005, 19875, 2140, 4962, 4373, 24388, 13665, 2108, 4601, 1012, 1016, 1003, 1012, 4376, 1006, 2459, 1012, 1020, 1003, 1007, 28309, 9099, 4135, 10719, 2015, 1998, 24191, 1997, 2340, 4160, 21926, 2020, 11156, 2011, 1043, 2316, 2075, 4106, 1012, 1996, 4489, 1999, 1996, 10788, 6165, 2090, 1996, 2048, 4725, 2001, 7778, 2135, 3278, 1006, 1052, 1026, 1014, 1012, 5709, 1007, 1012, 7091, 1024, 1996, 14639, 1997, 3869, 4632, 4710, 2005, 19875, 2140, 4962, 4373, 24388, 13665, 2001, 6022, 3020, 2084, 2008, 1997, 1043, 2316, 2075, 10381, 21716, 27642, 10556, 2854, 4140, 22571, 2075, 1012, 4117, 2224, 1997, 2119, 4725, 2005, 2336, 2007, 2572, 2140, 2064, 5335, 1996, 10788, 3446, 1997, 19875, 2140, 4962, 4373, 24388, 13665, 2015, 1998, 3073, 10232, 15774, 2005, 6612, 11616, 1010, 3949, 1998, 4013, 26745, 6190, 1012, 102, 0, 0, 0, 0, 0, 0, 0, 0, 0, 0, 0, 0, 0, 0, 0, 0, 0, 0, 0, 0, 0, 0, 0, 0, 0, 0, 0, 0, 0, 0, 0, 0, 0, 0, 0, 0, 0, 0, 0, 0, 0, 0, 0, 0, 0, 0, 0, 0, 0, 0, 0, 0, 0, 0, 0, 0, 0, 0, 0, 0, 0, 0, 0, 0, 0, 0, 0, 0, 0, 0, 0, 0, 0, 0, 0, 0, 0, 0, 0, 0, 0, 0, 0, 0, 0, 0, 0, 0, 0, 0, 0, 0, 0, 0, 0, 0, 0, 0, 0, 0, 0, 0, 0, 0, 0, 0, 0, 0, 0, 0, 0, 0, 0, 0, 0, 0, 0, 0, 0, 0, 0, 0, 0, 0, 0, 0, 0, 0, 0, 0, 0, 0, 0, 0, 0, 0, 0, 0, 0, 0, 0, 0, 0, 0, 0, 0, 0, 0, 0, 0, 0, 0, 0, 0, 0, 0, 0, 0, 0, 0, 0, 0, 0, 0, 0, 0, 0, 0, 0, 0, 0, 0, 0, 0, 0, 0, 0, 0, 0, 0, 0, 0, 0, 0, 0, 0, 0, 0, 0, 0, 0, 0, 0, 0, 0, 0, 0, 0, 0, 0, 0, 0, 0, 0, 0, 0, 0, 0, 0, 0, 0, 0, 0, 0, 0, 0, 0, 0, 0, 0, 0, 0, 0, 0, 0, 0, 0, 0, 0, 0, 0, 0, 0, 0, 0, 0, 0, 0, 0, 0, 0, 0, 0, 0], [101, 2516, 1024, 5915, 1998, 8114, 7584, 1997, 8346, 1011, 2489, 2529, 10572, 20228, 9496, 11008, 4765, 7872, 4442, 2000, 13938, 2361, 1011, 3694, 3226, 3785, 1012, 10061, 1024, 2951, 6592, 2008, 6612, 5097, 1997, 2529, 10572, 20228, 9496, 11008, 4765, 7872, 4442, 1006, 6700, 6169, 1007, 2097, 2022, 3651, 1012, 9690, 1010, 6612, 5097, 2097, 5478, 6700, 6169, 2008, 2024, 2489, 1997, 4654, 23924, 3560, 6064, 1998, 2008, 2064, 2022, 7609, 2083, 2204, 5814, 3218, 1006, 13938, 2361, 1007, 1012, 15502, 2135, 1010, 29280, 1997, 6700, 6169, 2323, 2022, 5915, 1998, 8114, 1999, 2344, 2000, 18478, 16924, 2015, 1010, 5547, 4022, 2005, 20299, 1997, 14494, 1998, 18478, 3361, 5366, 1012, 3025, 2913, 2988, 1996, 2224, 1997, 6310, 12553, 28848, 2015, 2000, 16360, 3217, 13113, 10882, 12618, 28522, 12837, 2000, 1037, 20228, 9496, 11008, 4765, 2110, 1012, 2182, 1010, 2057, 3073, 2019, 23569, 27605, 5422, 1010, 3929, 5072, 2135, 4225, 1998, 21429, 1011, 2489, 8778, 2005, 1996, 29280, 1997, 6700, 6169, 2478, 12553, 28848, 2015, 1012, 1996, 8778, 3463, 1999, 29280, 1997, 3929, 16360, 3217, 13113, 7583, 6700, 2278, 3210, 2013, 4639, 4315, 9067, 10882, 12618, 28522, 12837, 1999, 2625, 2084, 2048, 3134, 1012, 1996, 6700, 2278, 3210, 2020, 5147, 7718, 2005, 2037, 4767, 1010, 18433, 1010, 9211, 1998, 3808, 2012, 1037, 13938, 2361, 4322, 1998, 5390, 7361, 6072, 25944, 1012, 2000, 2256, 3716, 1010, 2004, 1037, 6947, 1997, 6958, 1010, 2122, 2024, 1996, 2034, 8346, 1011, 2489, 12997, 11020, 2015, 3210, 2008, 2020, 16360, 14127, 14194, 17296, 7013, 2083, 12553, 28848, 16360, 3217, 13113, 6562, 2008, 2071, 2022, 2404, 8082, 2135, 2109, 2005, 6612, 5682, 1012, 102, 0, 0, 0, 0, 0, 0, 0, 0, 0, 0, 0, 0, 0, 0, 0, 0, 0, 0, 0, 0, 0, 0, 0, 0, 0, 0, 0, 0, 0, 0, 0, 0, 0, 0, 0, 0, 0, 0, 0, 0, 0, 0, 0, 0, 0, 0, 0, 0, 0, 0, 0, 0, 0, 0, 0, 0, 0, 0, 0, 0, 0, 0, 0, 0, 0, 0, 0, 0, 0, 0, 0, 0, 0, 0, 0, 0, 0, 0, 0, 0, 0, 0, 0, 0, 0, 0, 0, 0, 0, 0, 0, 0, 0, 0, 0, 0, 0, 0, 0, 0, 0, 0, 0, 0, 0, 0, 0, 0, 0, 0, 0, 0, 0, 0, 0, 0, 0, 0, 0, 0, 0, 0, 0, 0, 0, 0, 0, 0, 0, 0, 0, 0, 0, 0, 0, 0, 0, 0, 0, 0, 0, 0, 0, 0, 0, 0, 0, 0, 0, 0, 0, 0, 0, 0, 0, 0, 0, 0, 0, 0, 0, 0, 0, 0, 0, 0, 0, 0, 0, 0, 0, 0, 0, 0, 0, 0, 0, 0, 0, 0, 0, 0, 0, 0, 0, 0, 0, 0, 0, 0, 0, 0, 0, 0, 0, 0, 0, 0, 0, 0, 0, 0, 0, 0, 0, 0, 0, 0, 0, 0, 0, 0, 0, 0, 0, 0, 0, 0, 0, 0, 0, 0, 0, 0, 0, 0, 0, 0, 0, 0, 0, 0, 0, 0, 0, 0, 0, 0, 0, 0, 0, 0, 0, 0], [101, 2516, 1024, 16221, 2389, 8674, 1998, 6887, 16515, 23186, 28436, 1997, 26363, 10222, 2638, 13472, 1040, 27268, 18981, 10536, 1998, 3141, 10840, 1999, 1037, 24267, 2313, 1012, 10061, 1024, 26363, 10222, 2638, 13472, 1040, 27268, 18981, 10536, 1006, 1040, 26876, 1007, 2003, 1037, 5729, 4678, 11265, 10976, 7606, 15431, 8761, 3303, 2011, 14494, 1999, 1996, 1060, 1011, 5799, 1040, 27268, 18981, 10606, 4962, 1012, 2195, 14494, 2031, 2042, 4453, 1010, 2664, 1996, 2440, 16221, 2389, 8674, 1010, 1998, 2037, 6887, 16515, 23186, 8465, 1010, 2097, 5478, 8991, 4140, 22571, 2075, 2408, 2367, 7080, 1012, 2000, 2023, 2203, 1010, 2057, 12543, 1996, 2034, 6851, 8991, 26305, 1998, 6887, 16515, 13874, 23191, 1997, 1040, 26876, 1999, 1996, 24267, 2313, 1012, 2057, 10847, 1996, 4678, 16221, 2389, 1998, 6887, 16515, 23186, 8674, 1997, 1996, 1040, 26876, 4962, 1999, 4029, 1040, 26876, 1011, 6878, 24267, 6818, 2478, 2019, 15318, 15184, 16474, 5656, 5994, 3988, 11326, 2005, 4654, 12356, 3972, 20624, 5644, 1999, 1996, 1040, 26876, 4962, 3081, 3674, 2595, 7473, 2099, 1010, 2628, 2011, 5604, 7473, 2099, 1011, 4997, 5022, 2005, 14494, 2478, 2878, 4654, 8462, 24558, 1012, 1996, 3972, 20624, 2239, 12375, 4453, 2048, 4187, 1040, 26876, 4962, 2980, 13102, 4140, 4655, 1006, 2379, 4013, 9048, 9067, 1998, 29333, 4515, 1010, 13912, 4654, 5644, 1022, 1011, 2459, 1998, 4654, 5644, 3429, 1011, 5187, 1010, 4414, 1007, 2008, 11539, 5345, 1003, 1006, 2538, 1013, 2570, 1007, 1997, 1996, 3972, 20624, 5644, 2005, 2023, 2313, 2522, 27794, 1012, 2013, 2256, 4654, 8462, 4106, 1010, 2057, 11156, 2048, 3117, 26835, 2594, 19610, 10993, 2100, 3995, 2271, 14494, 1999, 4654, 5644, 2538, 1998, 4413, 1997, 1996, 1040, 26876, 4962, 1010, 1998, 3117, 26835, 2594, 28290, 3512, 1998, 3279, 1997, 3853, 10176, 1999, 2176, 3176, 9165, 1024, 22214, 19797, 1010, 1040, 7274, 2546, 1010, 8902, 2575, 2050, 2509, 1010, 1998, 2079, 2243, 2581, 1012, 2256, 6887, 16515, 23186, 4106, 3662, 2008, 1040, 26876, 6878, 6818, 3591, 7578, 6887, 16515, 13874, 2015, 2429, 2000, 1996, 3295, 1997, 1996, 16221, 1998, 2029, 4962, 2001, 19209, 1012, 2256, 2817, 3640, 18240, 3563, 2047, 20062, 2046, 2119, 6612, 1998, 7403, 5919, 1997, 1040, 26876, 1012, 102, 0, 0, 0, 0, 0, 0, 0, 0, 0, 0, 0, 0, 0, 0, 0, 0, 0, 0, 0, 0, 0, 0, 0, 0, 0, 0, 0, 0, 0, 0, 0, 0, 0, 0, 0, 0, 0, 0, 0, 0, 0, 0, 0, 0, 0, 0, 0, 0, 0, 0, 0, 0, 0, 0, 0, 0, 0, 0, 0, 0, 0, 0, 0, 0, 0, 0, 0, 0, 0, 0, 0, 0, 0, 0, 0, 0, 0, 0, 0, 0, 0, 0, 0, 0, 0, 0, 0, 0, 0, 0, 0, 0, 0, 0, 0, 0, 0, 0, 0, 0, 0, 0, 0, 0, 0, 0, 0, 0, 0, 0, 0, 0, 0, 0, 0, 0, 0, 0, 0, 0, 0, 0, 0, 0, 0, 0, 0, 0, 0, 0, 0, 0, 0, 0, 0, 0, 0, 0, 0, 0, 0, 0, 0, 0, 0, 0, 0, 0, 0, 0, 0, 0, 0, 0, 0, 0, 0]], 'attention_mask': [[1, 1, 1, 1, 1, 1, 1, 1, 1, 1, 1, 1, 1, 1, 1, 1, 1, 1, 1, 1, 1, 1, 1, 1, 1, 1, 1, 1, 1, 1, 1, 1, 1, 1, 1, 1, 1, 1, 1, 1, 1, 1, 1, 1, 1, 1, 1, 1, 1, 1, 1, 1, 1, 1, 1, 1, 1, 1, 1, 1, 1, 1, 1, 1, 1, 1, 1, 1, 1, 1, 1, 1, 1, 1, 1, 1, 1, 1, 1, 1, 1, 1, 1, 1, 1, 1, 1, 1, 1, 1, 1, 1, 1, 1, 1, 1, 1, 1, 1, 1, 1, 1, 1, 1, 1, 1, 1, 1, 1, 1, 1, 1, 1, 1, 1, 1, 1, 1, 1, 1, 1, 1, 1, 1, 1, 1, 1, 1, 1, 1, 1, 1, 1, 1, 1, 1, 1, 1, 1, 1, 1, 1, 1, 1, 1, 1, 1, 1, 1, 1, 1, 1, 1, 1, 1, 1, 1, 1, 1, 1, 1, 1, 1, 1, 1, 1, 1, 1, 1, 1, 1, 1, 1, 1, 1, 1, 1, 1, 1, 1, 1, 1, 1, 1, 1, 1, 1, 1, 1, 1, 1, 1, 1, 1, 1, 1, 1, 1, 1, 1, 1, 1, 1, 1, 1, 1, 1, 1, 1, 1, 1, 1, 1, 1, 1, 1, 1, 1, 1, 1, 1, 1, 1, 1, 1, 1, 1, 1, 1, 1, 1, 1, 1, 1, 1, 1, 1, 1, 1, 1, 1, 1, 1, 1, 1, 1, 1, 1, 1, 1, 1, 1, 1, 1, 1, 1, 1, 1, 1, 1, 1, 1, 1, 1, 1, 1, 1, 1, 1, 1, 1, 1, 1, 1, 1, 1, 1, 1, 1, 1, 1, 1, 1, 1, 1, 1, 1, 1, 1, 1, 1, 1, 1, 1, 1, 1, 1, 1, 1, 1, 1, 1, 1, 1, 1, 1, 1, 1, 1, 1, 1, 1, 1, 1, 1, 1, 1, 1, 1, 1, 1, 1, 1, 1, 1, 1, 1, 1, 1, 1, 1, 1, 1, 1, 1, 0, 0, 0, 0, 0, 0, 0, 0, 0, 0, 0, 0, 0, 0, 0, 0, 0, 0, 0, 0, 0, 0, 0, 0, 0, 0, 0, 0, 0, 0, 0, 0, 0, 0, 0, 0, 0, 0, 0, 0, 0, 0, 0, 0, 0, 0, 0, 0, 0, 0, 0, 0, 0, 0, 0, 0, 0, 0, 0, 0, 0, 0, 0, 0, 0, 0, 0, 0, 0, 0, 0, 0, 0, 0, 0, 0, 0, 0, 0, 0, 0, 0, 0, 0, 0, 0, 0, 0, 0, 0, 0, 0, 0, 0, 0, 0, 0, 0, 0, 0, 0, 0, 0, 0, 0, 0, 0, 0, 0, 0, 0, 0, 0, 0, 0, 0, 0, 0, 0, 0, 0, 0, 0, 0, 0, 0, 0, 0, 0, 0, 0, 0, 0, 0, 0, 0, 0, 0, 0, 0, 0, 0, 0, 0, 0, 0, 0, 0, 0, 0, 0, 0, 0, 0, 0, 0, 0, 0, 0, 0, 0, 0, 0, 0, 0, 0, 0, 0, 0, 0, 0, 0, 0, 0, 0, 0, 0], [1, 1, 1, 1, 1, 1, 1, 1, 1, 1, 1, 1, 1, 1, 1, 1, 1, 1, 1, 1, 1, 1, 1, 1, 1, 1, 1, 1, 1, 1, 1, 1, 1, 1, 1, 1, 1, 1, 1, 1, 1, 1, 1, 1, 1, 1, 1, 1, 1, 1, 1, 1, 1, 1, 1, 1, 1, 1, 1, 1, 1, 1, 1, 1, 1, 1, 1, 1, 1, 1, 1, 1, 1, 1, 1, 1, 1, 1, 1, 1, 1, 1, 1, 1, 1, 1, 1, 1, 1, 1, 1, 1, 1, 1, 1, 1, 1, 1, 1, 1, 1, 1, 1, 1, 1, 1, 1, 1, 1, 1, 1, 1, 1, 1, 1, 1, 1, 1, 1, 1, 1, 1, 1, 1, 1, 1, 1, 1, 1, 1, 1, 1, 1, 1, 1, 1, 1, 1, 1, 1, 1, 1, 1, 1, 1, 1, 1, 1, 1, 1, 1, 1, 1, 1, 1, 1, 1, 1, 1, 1, 1, 1, 1, 1, 1, 1, 1, 1, 1, 1, 1, 1, 1, 1, 1, 1, 1, 1, 1, 1, 1, 1, 1, 1, 1, 1, 1, 1, 1, 1, 1, 1, 1, 1, 1, 1, 1, 1, 1, 1, 1, 1, 1, 1, 1, 1, 1, 1, 1, 1, 1, 1, 1, 1, 1, 1, 1, 1, 1, 1, 1, 1, 1, 1, 1, 1, 1, 1, 1, 1, 1, 1, 1, 1, 1, 1, 1, 1, 1, 1, 1, 1, 1, 1, 1, 1, 1, 1, 1, 1, 1, 1, 1, 1, 1, 1, 1, 1, 1, 1, 1, 1, 1, 1, 1, 1, 1, 1, 1, 1, 1, 1, 1, 1, 1, 1, 1, 1, 1, 1, 1, 1, 1, 1, 1, 1, 1, 1, 1, 1, 1, 1, 1, 1, 1, 1, 1, 1, 1, 1, 1, 1, 1, 1, 1, 1, 1, 1, 1, 1, 1, 1, 1, 1, 1, 1, 1, 0, 0, 0, 0, 0, 0, 0, 0, 0, 0, 0, 0, 0, 0, 0, 0, 0, 0, 0, 0, 0, 0, 0, 0, 0, 0, 0, 0, 0, 0, 0, 0, 0, 0, 0, 0, 0, 0, 0, 0, 0, 0, 0, 0, 0, 0, 0, 0, 0, 0, 0, 0, 0, 0, 0, 0, 0, 0, 0, 0, 0, 0, 0, 0, 0, 0, 0, 0, 0, 0, 0, 0, 0, 0, 0, 0, 0, 0, 0, 0, 0, 0, 0, 0, 0, 0, 0, 0, 0, 0, 0, 0, 0, 0, 0, 0, 0, 0, 0, 0, 0, 0, 0, 0, 0, 0, 0, 0, 0, 0, 0, 0, 0, 0, 0, 0, 0, 0, 0, 0, 0, 0, 0, 0, 0, 0, 0, 0, 0, 0, 0, 0, 0, 0, 0, 0, 0, 0, 0, 0, 0, 0, 0, 0, 0, 0, 0, 0, 0, 0, 0, 0, 0, 0, 0, 0, 0, 0, 0, 0, 0, 0, 0, 0, 0, 0, 0, 0, 0, 0, 0, 0, 0, 0, 0, 0, 0, 0, 0, 0, 0, 0, 0, 0, 0, 0, 0, 0, 0, 0, 0, 0, 0, 0, 0], [1, 1, 1, 1, 1, 1, 1, 1, 1, 1, 1, 1, 1, 1, 1, 1, 1, 1, 1, 1, 1, 1, 1, 1, 1, 1, 1, 1, 1, 1, 1, 1, 1, 1, 1, 1, 1, 1, 1, 1, 1, 1, 1, 1, 1, 1, 1, 1, 1, 1, 1, 1, 1, 1, 1, 1, 1, 1, 1, 1, 1, 1, 1, 1, 1, 1, 1, 1, 1, 1, 1, 1, 1, 1, 1, 1, 1, 1, 1, 1, 1, 1, 1, 1, 1, 1, 1, 1, 1, 1, 1, 1, 1, 1, 1, 1, 1, 1, 1, 1, 1, 1, 1, 1, 1, 1, 1, 1, 1, 1, 1, 1, 1, 1, 1, 1, 1, 1, 1, 1, 1, 1, 1, 1, 1, 1, 1, 1, 1, 1, 1, 1, 1, 1, 1, 1, 1, 1, 1, 1, 1, 1, 1, 1, 1, 1, 1, 1, 1, 1, 1, 1, 1, 1, 1, 1, 1, 1, 1, 1, 1, 1, 1, 1, 1, 1, 1, 1, 1, 1, 1, 1, 1, 1, 1, 1, 1, 1, 1, 1, 1, 1, 1, 1, 1, 1, 1, 1, 1, 1, 1, 1, 1, 1, 1, 1, 1, 1, 1, 1, 1, 1, 1, 1, 1, 1, 1, 1, 1, 1, 1, 1, 1, 1, 1, 1, 1, 1, 1, 1, 1, 1, 1, 1, 1, 1, 1, 1, 1, 1, 1, 1, 1, 1, 1, 1, 1, 1, 1, 1, 1, 1, 1, 1, 1, 1, 1, 1, 1, 1, 1, 1, 1, 1, 1, 1, 1, 1, 1, 1, 1, 1, 1, 1, 1, 1, 1, 1, 0, 0, 0, 0, 0, 0, 0, 0, 0, 0, 0, 0, 0, 0, 0, 0, 0, 0, 0, 0, 0, 0, 0, 0, 0, 0, 0, 0, 0, 0, 0, 0, 0, 0, 0, 0, 0, 0, 0, 0, 0, 0, 0, 0, 0, 0, 0, 0, 0, 0, 0, 0, 0, 0, 0, 0, 0, 0, 0, 0, 0, 0, 0, 0, 0, 0, 0, 0, 0, 0, 0, 0, 0, 0, 0, 0, 0, 0, 0, 0, 0, 0, 0, 0, 0, 0, 0, 0, 0, 0, 0, 0, 0, 0, 0, 0, 0, 0, 0, 0, 0, 0, 0, 0, 0, 0, 0, 0, 0, 0, 0, 0, 0, 0, 0, 0, 0, 0, 0, 0, 0, 0, 0, 0, 0, 0, 0, 0, 0, 0, 0, 0, 0, 0, 0, 0, 0, 0, 0, 0, 0, 0, 0, 0, 0, 0, 0, 0, 0, 0, 0, 0, 0, 0, 0, 0, 0, 0, 0, 0, 0, 0, 0, 0, 0, 0, 0, 0, 0, 0, 0, 0, 0, 0, 0, 0, 0, 0, 0, 0, 0, 0, 0, 0, 0, 0, 0, 0, 0, 0, 0, 0, 0, 0, 0, 0, 0, 0, 0, 0, 0, 0, 0, 0, 0, 0, 0, 0, 0, 0, 0, 0, 0, 0, 0, 0, 0, 0, 0, 0, 0, 0, 0, 0, 0, 0, 0, 0, 0, 0, 0, 0, 0, 0, 0, 0, 0, 0, 0, 0, 0, 0, 0, 0], [1, 1, 1, 1, 1, 1, 1, 1, 1, 1, 1, 1, 1, 1, 1, 1, 1, 1, 1, 1, 1, 1, 1, 1, 1, 1, 1, 1, 1, 1, 1, 1, 1, 1, 1, 1, 1, 1, 1, 1, 1, 1, 1, 1, 1, 1, 1, 1, 1, 1, 1, 1, 1, 1, 1, 1, 1, 1, 1, 1, 1, 1, 1, 1, 1, 1, 1, 1, 1, 1, 1, 1, 1, 1, 1, 1, 1, 1, 1, 1, 1, 1, 1, 1, 1, 1, 1, 1, 1, 1, 1, 1, 1, 1, 1, 1, 1, 1, 1, 1, 1, 1, 1, 1, 1, 1, 1, 1, 1, 1, 1, 1, 1, 1, 1, 1, 1, 1, 1, 1, 1, 1, 1, 1, 1, 1, 1, 1, 1, 1, 1, 1, 1, 1, 1, 1, 1, 1, 1, 1, 1, 1, 1, 1, 1, 1, 1, 1, 1, 1, 1, 1, 1, 1, 1, 1, 1, 1, 1, 1, 1, 1, 1, 1, 1, 1, 1, 1, 1, 1, 1, 1, 1, 1, 1, 1, 1, 1, 1, 1, 1, 1, 1, 1, 1, 1, 1, 1, 1, 1, 1, 1, 1, 1, 1, 1, 1, 1, 1, 1, 1, 1, 1, 1, 1, 1, 1, 1, 1, 1, 1, 1, 1, 1, 1, 1, 1, 1, 1, 1, 1, 1, 1, 1, 1, 1, 1, 1, 1, 1, 1, 1, 1, 1, 1, 1, 1, 1, 1, 1, 1, 1, 1, 1, 1, 1, 1, 1, 1, 1, 1, 1, 1, 1, 1, 1, 1, 1, 1, 1, 1, 1, 1, 1, 1, 1, 1, 1, 0, 0, 0, 0, 0, 0, 0, 0, 0, 0, 0, 0, 0, 0, 0, 0, 0, 0, 0, 0, 0, 0, 0, 0, 0, 0, 0, 0, 0, 0, 0, 0, 0, 0, 0, 0, 0, 0, 0, 0, 0, 0, 0, 0, 0, 0, 0, 0, 0, 0, 0, 0, 0, 0, 0, 0, 0, 0, 0, 0, 0, 0, 0, 0, 0, 0, 0, 0, 0, 0, 0, 0, 0, 0, 0, 0, 0, 0, 0, 0, 0, 0, 0, 0, 0, 0, 0, 0, 0, 0, 0, 0, 0, 0, 0, 0, 0, 0, 0, 0, 0, 0, 0, 0, 0, 0, 0, 0, 0, 0, 0, 0, 0, 0, 0, 0, 0, 0, 0, 0, 0, 0, 0, 0, 0, 0, 0, 0, 0, 0, 0, 0, 0, 0, 0, 0, 0, 0, 0, 0, 0, 0, 0, 0, 0, 0, 0, 0, 0, 0, 0, 0, 0, 0, 0, 0, 0, 0, 0, 0, 0, 0, 0, 0, 0, 0, 0, 0, 0, 0, 0, 0, 0, 0, 0, 0, 0, 0, 0, 0, 0, 0, 0, 0, 0, 0, 0, 0, 0, 0, 0, 0, 0, 0, 0, 0, 0, 0, 0, 0, 0, 0, 0, 0, 0, 0, 0, 0, 0, 0, 0, 0, 0, 0, 0, 0, 0, 0, 0, 0, 0, 0, 0, 0, 0, 0, 0, 0, 0, 0, 0, 0, 0, 0, 0, 0, 0, 0, 0, 0, 0, 0, 0, 0], [1, 1, 1, 1, 1, 1, 1, 1, 1, 1, 1, 1, 1, 1, 1, 1, 1, 1, 1, 1, 1, 1, 1, 1, 1, 1, 1, 1, 1, 1, 1, 1, 1, 1, 1, 1, 1, 1, 1, 1, 1, 1, 1, 1, 1, 1, 1, 1, 1, 1, 1, 1, 1, 1, 1, 1, 1, 1, 1, 1, 1, 1, 1, 1, 1, 1, 1, 1, 1, 1, 1, 1, 1, 1, 1, 1, 1, 1, 1, 1, 1, 1, 1, 1, 1, 1, 1, 1, 1, 1, 1, 1, 1, 1, 1, 1, 1, 1, 1, 1, 1, 1, 1, 1, 1, 1, 1, 1, 1, 1, 1, 1, 1, 1, 1, 1, 1, 1, 1, 1, 1, 1, 1, 1, 1, 1, 1, 1, 1, 1, 1, 1, 1, 1, 1, 1, 1, 1, 1, 1, 1, 1, 1, 1, 1, 1, 1, 1, 1, 1, 1, 1, 1, 1, 1, 1, 1, 1, 1, 1, 1, 1, 1, 1, 1, 1, 1, 1, 1, 1, 1, 1, 1, 1, 1, 1, 1, 1, 1, 1, 1, 1, 1, 1, 1, 1, 1, 1, 1, 1, 1, 1, 1, 1, 1, 1, 1, 1, 1, 1, 1, 1, 1, 1, 1, 1, 1, 1, 1, 1, 1, 1, 1, 1, 1, 1, 1, 1, 1, 1, 1, 1, 1, 1, 1, 1, 1, 1, 1, 1, 1, 1, 1, 1, 1, 1, 1, 1, 1, 1, 1, 1, 1, 1, 1, 1, 1, 1, 1, 1, 1, 1, 1, 1, 1, 1, 1, 1, 1, 1, 1, 1, 1, 1, 1, 1, 1, 1, 1, 1, 1, 1, 1, 1, 1, 1, 1, 1, 1, 1, 1, 1, 1, 1, 1, 1, 1, 1, 1, 1, 1, 1, 1, 1, 1, 1, 1, 1, 1, 1, 1, 1, 1, 1, 1, 1, 1, 1, 1, 1, 1, 1, 1, 1, 1, 1, 1, 1, 1, 1, 1, 1, 1, 1, 1, 1, 1, 1, 1, 1, 1, 1, 1, 1, 1, 1, 1, 1, 1, 1, 1, 1, 1, 1, 1, 1, 1, 1, 1, 1, 1, 1, 1, 1, 1, 0, 0, 0, 0, 0, 0, 0, 0, 0, 0, 0, 0, 0, 0, 0, 0, 0, 0, 0, 0, 0, 0, 0, 0, 0, 0, 0, 0, 0, 0, 0, 0, 0, 0, 0, 0, 0, 0, 0, 0, 0, 0, 0, 0, 0, 0, 0, 0, 0, 0, 0, 0, 0, 0, 0, 0, 0, 0, 0, 0, 0, 0, 0, 0, 0, 0, 0, 0, 0, 0, 0, 0, 0, 0, 0, 0, 0, 0, 0, 0, 0, 0, 0, 0, 0, 0, 0, 0, 0, 0, 0, 0, 0, 0, 0, 0, 0, 0, 0, 0, 0, 0, 0, 0, 0, 0, 0, 0, 0, 0, 0, 0, 0, 0, 0, 0, 0, 0, 0, 0, 0, 0, 0, 0, 0, 0, 0, 0, 0, 0, 0, 0, 0, 0, 0, 0, 0, 0, 0, 0, 0, 0, 0, 0, 0, 0, 0, 0, 0, 0, 0, 0, 0, 0, 0, 0, 0]]}\n"
     ]
    }
   ],
   "source": [
    "print(train_dataset[:5]) "
   ]
  },
  {
   "cell_type": "code",
   "execution_count": null,
   "metadata": {},
   "outputs": [
    {
     "name": "stderr",
     "output_type": "stream",
     "text": [
      "Some weights of DistilBertForSequenceClassification were not initialized from the model checkpoint at distilbert-base-uncased and are newly initialized: ['classifier.bias', 'classifier.weight', 'pre_classifier.bias', 'pre_classifier.weight']\n",
      "You should probably TRAIN this model on a down-stream task to be able to use it for predictions and inference.\n",
      "d:\\Python_venv\\.venv\\lib\\site-packages\\transformers\\training_args.py:1594: FutureWarning: `evaluation_strategy` is deprecated and will be removed in version 4.46 of 🤗 Transformers. Use `eval_strategy` instead\n",
      "  warnings.warn(\n",
      "C:\\Users\\tarun\\AppData\\Local\\Temp\\ipykernel_1539412\\1616263120.py:38: FutureWarning: `tokenizer` is deprecated and will be removed in version 5.0.0 for `Trainer.__init__`. Use `processing_class` instead.\n",
      "  trainer = Trainer(\n",
      "No label_names provided for model class `PeftModelForSequenceClassification`. Since `PeftModel` hides base models input arguments, if label_names is not given, label_names can't be set automatically within `Trainer`. Note that empty label_names list will be used instead.\n"
     ]
    },
    {
     "data": {
      "text/html": [
       "\n",
       "    <div>\n",
       "      \n",
       "      <progress value='2000' max='2000' style='width:300px; height:20px; vertical-align: middle;'></progress>\n",
       "      [2000/2000 57:18, Epoch 5/5]\n",
       "    </div>\n",
       "    <table border=\"1\" class=\"dataframe\">\n",
       "  <thead>\n",
       " <tr style=\"text-align: left;\">\n",
       "      <th>Epoch</th>\n",
       "      <th>Training Loss</th>\n",
       "      <th>Validation Loss</th>\n",
       "      <th>Accuracy</th>\n",
       "      <th>F1</th>\n",
       "    </tr>\n",
       "  </thead>\n",
       "  <tbody>\n",
       "    <tr>\n",
       "      <td>1</td>\n",
       "      <td>0.463700</td>\n",
       "      <td>0.165187</td>\n",
       "      <td>0.955000</td>\n",
       "      <td>0.954286</td>\n",
       "    </tr>\n",
       "    <tr>\n",
       "      <td>2</td>\n",
       "      <td>0.269400</td>\n",
       "      <td>0.118205</td>\n",
       "      <td>0.975000</td>\n",
       "      <td>0.974721</td>\n",
       "    </tr>\n",
       "    <tr>\n",
       "      <td>3</td>\n",
       "      <td>0.209500</td>\n",
       "      <td>0.111008</td>\n",
       "      <td>0.960000</td>\n",
       "      <td>0.959673</td>\n",
       "    </tr>\n",
       "    <tr>\n",
       "      <td>4</td>\n",
       "      <td>0.201800</td>\n",
       "      <td>0.117210</td>\n",
       "      <td>0.960000</td>\n",
       "      <td>0.959673</td>\n",
       "    </tr>\n",
       "    <tr>\n",
       "      <td>5</td>\n",
       "      <td>0.206900</td>\n",
       "      <td>0.121488</td>\n",
       "      <td>0.960000</td>\n",
       "      <td>0.959673</td>\n",
       "    </tr>\n",
       "  </tbody>\n",
       "</table><p>"
      ],
      "text/plain": [
       "<IPython.core.display.HTML object>"
      ]
     },
     "metadata": {},
     "output_type": "display_data"
    },
    {
     "data": {
      "text/plain": [
       "TrainOutput(global_step=2000, training_loss=0.2702580718994141, metrics={'train_runtime': 3440.5801, 'train_samples_per_second': 1.163, 'train_steps_per_second': 0.581, 'total_flos': 538957627392000.0, 'train_loss': 0.2702580718994141, 'epoch': 5.0})"
      ]
     },
     "execution_count": 113,
     "metadata": {},
     "output_type": "execute_result"
    }
   ],
   "source": [
    "\n",
    "# === 5. Model + LoRA Config ===\n",
    "base_model = AutoModelForSequenceClassification.from_pretrained(model_name, num_labels=len(mlb.classes_), problem_type=\"multi_label_classification\")\n",
    "\n",
    "peft_config = LoraConfig(\n",
    "    r=8,\n",
    "    lora_alpha=32,\n",
    "    task_type=TaskType.SEQ_CLS,\n",
    "    lora_dropout=0.1,\n",
    "    bias=\"none\",\n",
    "    target_modules=[\"q_lin\", \"v_lin\"]  # For DistilBERT[\"q_lin\", \"v_lin\"]; use [\"query\", \"value\"] for BERT-like models\n",
    ")\n",
    "model = get_peft_model(base_model, peft_config)\n",
    "\n",
    "# === 6. Training Arguments ===\n",
    "args = TrainingArguments(\n",
    "    output_dir=\"./results\",\n",
    "    per_device_train_batch_size=2,\n",
    "    per_device_eval_batch_size=2,\n",
    "    num_train_epochs=5,\n",
    "    evaluation_strategy=\"epoch\",\n",
    "    logging_strategy=\"epoch\",\n",
    "    save_strategy=\"no\",\n",
    "    load_best_model_at_end=False,\n",
    ")\n",
    "\n",
    "# === 7. Compute Metrics ===\n",
    "def compute_metrics(eval_pred):\n",
    "    logits, labels = eval_pred\n",
    "    preds = torch.sigmoid(torch.tensor(logits)).numpy()\n",
    "    binary_preds = (preds > 0.5).astype(int)\n",
    "    accuracy = accuracy_score(labels, binary_preds)\n",
    "    f1 = f1_score(labels, binary_preds, average='macro')\n",
    "    #precision = precision_score(labels, binary_preds, average='macro', zero_division=0)\n",
    "    #recall = recall_score(labels, binary_preds, average='macro', zero_division=0)\n",
    "    return {\"accuracy\": accuracy, \"f1\": f1}\n",
    "\n",
    "# === 8. Trainer Setup ===\n",
    "trainer = Trainer(\n",
    "    model=model,\n",
    "    args=args,\n",
    "    train_dataset=train_dataset,\n",
    "    eval_dataset=test_dataset,\n",
    "    tokenizer=tokenizer,\n",
    "    compute_metrics=compute_metrics,\n",
    ")\n",
    "\n",
    "# === 9. Train the Model ===\n",
    "trainer.train()\n",
    "\n"
   ]
  },
  {
   "cell_type": "code",
   "execution_count": null,
   "metadata": {},
   "outputs": [
    {
     "data": {
      "text/html": [],
      "text/plain": [
       "<IPython.core.display.HTML object>"
      ]
     },
     "metadata": {},
     "output_type": "display_data"
    },
    {
     "name": "stdout",
     "output_type": "stream",
     "text": [
      "\n",
      "Predicted Categories:\n",
      "{'predicted_labels': ('Cancer',)}\n"
     ]
    }
   ],
   "source": [
    "# === 10. Evaluate on Test Set ===\n",
    "import torch.nn.functional as F\n",
    "\n",
    "# Convert logits to softmax probabilities\n",
    "predictions = trainer.predict(test_dataset)\n",
    "logits_tensor = torch.tensor(predictions.predictions)\n",
    "probs = F.softmax(logits_tensor, dim=1).numpy()\n",
    "pred_labels = (probs > 0.5).astype(int)\n",
    "\n"
   ]
  },
  {
   "cell_type": "code",
   "execution_count": null,
   "metadata": {},
   "outputs": [
    {
     "name": "stdout",
     "output_type": "stream",
     "text": [
      "\n",
      "Confidence Scores for Each Category:\n",
      "{'Cancer': 1.0, 'Non-Cancer': 3.5678624e-08}\n",
      "\n",
      "Accuracy: 0.96\n",
      "F1 Score: 0.959673354168767\n",
      "Confusion Matrix:\n",
      " [[ 87   3]\n",
      " [  5 105]]\n"
     ]
    }
   ],
   "source": [
    "print(\"\\nAccuracy:\", accuracy_score(predictions.label_ids, pred_labels))\n",
    "print(\"F1 Score:\", f1_score(predictions.label_ids, pred_labels, average=\"macro\"))\n",
    "print(\"Confusion Matrix:\\n\", confusion_matrix(predictions.label_ids.argmax(axis=1), pred_labels.argmax(axis=1)))"
   ]
  },
  {
   "cell_type": "code",
   "execution_count": 117,
   "metadata": {},
   "outputs": [
    {
     "data": {
      "image/png": "[encoded data removed]",
      "text/plain": [
       "<Figure size 600x400 with 2 Axes>"
      ]
     },
     "metadata": {},
     "output_type": "display_data"
    }
   ],
   "source": [
    "import matplotlib.pyplot as plt\n",
    "import seaborn as sns\n",
    "\n",
    "cm = confusion_matrix(predictions.label_ids.argmax(axis=1), pred_labels.argmax(axis=1))\n",
    "# Plot the confusion matrix\n",
    "plt.figure(figsize=(6, 4))\n",
    "sns.heatmap(cm, annot=True, fmt='d', cmap='Blues', xticklabels=['Cancer', 'Non Cancer'], yticklabels=['Cancer', 'Non Cancer'])\n",
    "plt.xlabel('Predicted Labels')\n",
    "plt.ylabel('True Labels')\n",
    "plt.title('Confusion Matrix')\n",
    "plt.show()\n"
   ]
  },
  {
   "cell_type": "code",
   "execution_count": null,
   "metadata": {},
   "outputs": [
    {
     "data": {
      "image/png": "[encoded data removed]",
      "text/plain": [
       "<Figure size 800x600 with 1 Axes>"
      ]
     },
     "metadata": {},
     "output_type": "display_data"
    }
   ],
   "source": [
    "\n",
    "# === 12. AUC-ROC Curve ===\n",
    "true_labels = np.array(predictions.label_ids)\n",
    "fpr = dict()\n",
    "tpr = dict()\n",
    "roc_auc = dict()\n",
    "for i in range(len(mlb.classes_)):\n",
    "    fpr[i], tpr[i], _ = roc_curve(true_labels[:, i], probs[:, i])\n",
    "    roc_auc[i] = auc(fpr[i], tpr[i])\n",
    "\n",
    "# Macro-average ROC\n",
    "all_fpr = np.unique(np.concatenate([fpr[i] for i in range(len(mlb.classes_))]))\n",
    "mean_tpr = np.zeros_like(all_fpr)\n",
    "for i in range(len(mlb.classes_)):\n",
    "    mean_tpr += np.interp(all_fpr, fpr[i], tpr[i])\n",
    "mean_tpr /= len(mlb.classes_)\n",
    "roc_auc[\"macro\"] = auc(all_fpr, mean_tpr)\n",
    "\n",
    "# Plot\n",
    "plt.figure(figsize=(8, 6))\n",
    "colors = ['blue', 'green']\n",
    "for i, color in zip(range(len(mlb.classes_)), colors):\n",
    "    plt.plot(fpr[i], tpr[i], color=color, lw=2,\n",
    "             label=f\"{mlb.classes_[i]} (AUC = {roc_auc[i]:.2f})\")\n",
    "\n",
    "# plt.plot(all_fpr, mean_tpr, color='darkorange', linestyle='--',\n",
    "#          label=f\"Macro-average (AUC = {roc_auc['macro']:.2f})\", lw=2)\n",
    "plt.plot([0, 1], [0, 1], 'k--')\n",
    "plt.xlabel(\"False Positive Rate\")\n",
    "plt.ylabel(\"True Positive Rate\")\n",
    "# plt.title(\"Multi-label AUC-ROC Curve\")\n",
    "plt.legend(loc=\"lower right\")\n",
    "plt.grid()\n",
    "plt.tight_layout()\n",
    "plt.show()\n"
   ]
  },
  {
   "cell_type": "code",
   "execution_count": 119,
   "metadata": {},
   "outputs": [
    {
     "data": {
      "text/plain": [
       "('saved_model/merged_model\\\\tokenizer_config.json',\n",
       " 'saved_model/merged_model\\\\special_tokens_map.json',\n",
       " 'saved_model/merged_model\\\\vocab.txt',\n",
       " 'saved_model/merged_model\\\\added_tokens.json',\n",
       " 'saved_model/merged_model\\\\tokenizer.json')"
      ]
     },
     "execution_count": 119,
     "metadata": {},
     "output_type": "execute_result"
    }
   ],
   "source": [
    "from peft import PeftModel, PeftConfig\n",
    "\n",
    "# Merge adapter weights\n",
    "model = model.merge_and_unload()\n",
    "\n",
    "# Save merged model\n",
    "model.save_pretrained(\"saved_model/merged_model\")\n",
    "tokenizer.save_pretrained(\"saved_model/merged_model\")"
   ]
  },
  {
   "cell_type": "code",
   "execution_count": 124,
   "metadata": {},
   "outputs": [
    {
     "data": {
      "text/html": [
       "<div>\n",
       "<style scoped>\n",
       "    .dataframe tbody tr th:only-of-type {\n",
       "        vertical-align: middle;\n",
       "    }\n",
       "\n",
       "    .dataframe tbody tr th {\n",
       "        vertical-align: top;\n",
       "    }\n",
       "\n",
       "    .dataframe thead th {\n",
       "        text-align: right;\n",
       "    }\n",
       "</style>\n",
       "<table border=\"1\" class=\"dataframe\">\n",
       "  <thead>\n",
       "    <tr style=\"text-align: right;\">\n",
       "      <th></th>\n",
       "      <th>Title_Abstract</th>\n",
       "      <th>Label</th>\n",
       "      <th>Label_array</th>\n",
       "      <th>label_ids</th>\n",
       "    </tr>\n",
       "  </thead>\n",
       "  <tbody>\n",
       "    <tr>\n",
       "      <th>0</th>\n",
       "      <td>Title:Pathological and Molecular Features of G...</td>\n",
       "      <td>Cancer</td>\n",
       "      <td>[Cancer]</td>\n",
       "      <td>[1.0, 0.0]</td>\n",
       "    </tr>\n",
       "    <tr>\n",
       "      <th>1</th>\n",
       "      <td>Title:Large-Scale Exome-wide Association Analy...</td>\n",
       "      <td>Non-Cancer</td>\n",
       "      <td>[Non-Cancer]</td>\n",
       "      <td>[0.0, 1.0]</td>\n",
       "    </tr>\n",
       "    <tr>\n",
       "      <th>2</th>\n",
       "      <td>Title:[Pituitary adenomas].Abstract:Despite ch...</td>\n",
       "      <td>Cancer</td>\n",
       "      <td>[Cancer]</td>\n",
       "      <td>[1.0, 0.0]</td>\n",
       "    </tr>\n",
       "    <tr>\n",
       "      <th>3</th>\n",
       "      <td>Title:MPD-RC 101 prospective study of reduced-...</td>\n",
       "      <td>Non-Cancer</td>\n",
       "      <td>[Non-Cancer]</td>\n",
       "      <td>[0.0, 1.0]</td>\n",
       "    </tr>\n",
       "    <tr>\n",
       "      <th>4</th>\n",
       "      <td>Title:Oligodendrocyte Nf1 Controls Aberrant No...</td>\n",
       "      <td>Non-Cancer</td>\n",
       "      <td>[Non-Cancer]</td>\n",
       "      <td>[0.0, 1.0]</td>\n",
       "    </tr>\n",
       "    <tr>\n",
       "      <th>5</th>\n",
       "      <td>Title:Mechanistic and evolutionary insights in...</td>\n",
       "      <td>Non-Cancer</td>\n",
       "      <td>[Non-Cancer]</td>\n",
       "      <td>[0.0, 1.0]</td>\n",
       "    </tr>\n",
       "    <tr>\n",
       "      <th>6</th>\n",
       "      <td>Title:The differential diagnosis of classical ...</td>\n",
       "      <td>Cancer</td>\n",
       "      <td>[Cancer]</td>\n",
       "      <td>[1.0, 0.0]</td>\n",
       "    </tr>\n",
       "    <tr>\n",
       "      <th>7</th>\n",
       "      <td>Title:Telomere-associated aging disorders.Abst...</td>\n",
       "      <td>Non-Cancer</td>\n",
       "      <td>[Non-Cancer]</td>\n",
       "      <td>[0.0, 1.0]</td>\n",
       "    </tr>\n",
       "    <tr>\n",
       "      <th>8</th>\n",
       "      <td>Title:Characterization of the Phenotype Associ...</td>\n",
       "      <td>Non-Cancer</td>\n",
       "      <td>[Non-Cancer]</td>\n",
       "      <td>[0.0, 1.0]</td>\n",
       "    </tr>\n",
       "    <tr>\n",
       "      <th>9</th>\n",
       "      <td>Title:Sarcomatoid carcinoma after radiotherapy...</td>\n",
       "      <td>Cancer</td>\n",
       "      <td>[Cancer]</td>\n",
       "      <td>[1.0, 0.0]</td>\n",
       "    </tr>\n",
       "  </tbody>\n",
       "</table>\n",
       "</div>"
      ],
      "text/plain": [
       "                                      Title_Abstract       Label  \\\n",
       "0  Title:Pathological and Molecular Features of G...      Cancer   \n",
       "1  Title:Large-Scale Exome-wide Association Analy...  Non-Cancer   \n",
       "2  Title:[Pituitary adenomas].Abstract:Despite ch...      Cancer   \n",
       "3  Title:MPD-RC 101 prospective study of reduced-...  Non-Cancer   \n",
       "4  Title:Oligodendrocyte Nf1 Controls Aberrant No...  Non-Cancer   \n",
       "5  Title:Mechanistic and evolutionary insights in...  Non-Cancer   \n",
       "6  Title:The differential diagnosis of classical ...      Cancer   \n",
       "7  Title:Telomere-associated aging disorders.Abst...  Non-Cancer   \n",
       "8  Title:Characterization of the Phenotype Associ...  Non-Cancer   \n",
       "9  Title:Sarcomatoid carcinoma after radiotherapy...      Cancer   \n",
       "\n",
       "    Label_array   label_ids  \n",
       "0      [Cancer]  [1.0, 0.0]  \n",
       "1  [Non-Cancer]  [0.0, 1.0]  \n",
       "2      [Cancer]  [1.0, 0.0]  \n",
       "3  [Non-Cancer]  [0.0, 1.0]  \n",
       "4  [Non-Cancer]  [0.0, 1.0]  \n",
       "5  [Non-Cancer]  [0.0, 1.0]  \n",
       "6      [Cancer]  [1.0, 0.0]  \n",
       "7  [Non-Cancer]  [0.0, 1.0]  \n",
       "8  [Non-Cancer]  [0.0, 1.0]  \n",
       "9      [Cancer]  [1.0, 0.0]  "
      ]
     },
     "execution_count": 124,
     "metadata": {},
     "output_type": "execute_result"
    }
   ],
   "source": [
    "df.head(10)"
   ]
  },
  {
   "cell_type": "code",
   "execution_count": null,
   "metadata": {},
   "outputs": [],
   "source": []
  },
  {
   "cell_type": "code",
   "execution_count": 126,
   "metadata": {},
   "outputs": [
    {
     "name": "stdout",
     "output_type": "stream",
     "text": [
      "{'predicted_labels': ['Non-Cancer'], 'confidence_scores': {'Cancer': 0.0, 'Non-Cancer': 1.0}}\n"
     ]
    }
   ],
   "source": [
    "# 9. Sample Prediction Output\n",
    "sample_text = df[\"Title_Abstract\"][5]\n",
    "inputs = tokenizer(sample_text, return_tensors=\"pt\")\n",
    "with torch.no_grad():\n",
    "    logits = model(**inputs).logits\n",
    "    prob = F.softmax(logits, dim=1).squeeze().tolist()\n",
    "\n",
    "label_map = [\"Cancer\",\"Non-Cancer\"]\n",
    "predicted_index = np.argmax(prob)\n",
    "result = {\n",
    "    \"predicted_labels\": [label_map[predicted_index]],\n",
    "    \"confidence_scores\": {\n",
    "        \"Cancer\": round(prob[0], 2),\n",
    "        \"Non-Cancer\": round(prob[1], 2)\n",
    "    }\n",
    "}\n",
    "\n",
    "print(result)"
   ]
  },
  {
   "cell_type": "code",
   "execution_count": 12,
   "metadata": {},
   "outputs": [],
   "source": [
    "import torch\n",
    "from transformers import AutoTokenizer, AutoModelForSequenceClassification, pipeline\n",
    "from peft import LoraConfig, TaskType\n",
    "from transformers import BertForSequenceClassification\n",
    "from peft import get_peft_model\n",
    "from sklearn.metrics import accuracy_score, f1_score, confusion_matrix\n"
   ]
  },
  {
   "cell_type": "code",
   "execution_count": 13,
   "metadata": {},
   "outputs": [],
   "source": [
    "test_dataset_base = Dataset.from_pandas(test_df[['Title_Abstract', 'label_ids']])"
   ]
  },
  {
   "cell_type": "code",
   "execution_count": 14,
   "metadata": {},
   "outputs": [
    {
     "data": {
      "text/plain": [
       "Dataset({\n",
       "    features: ['Title_Abstract', 'label_ids', '__index_level_0__'],\n",
       "    num_rows: 200\n",
       "})"
      ]
     },
     "execution_count": 14,
     "metadata": {},
     "output_type": "execute_result"
    }
   ],
   "source": [
    "test_dataset_base"
   ]
  },
  {
   "cell_type": "code",
   "execution_count": 15,
   "metadata": {},
   "outputs": [
    {
     "name": "stderr",
     "output_type": "stream",
     "text": [
      "Some weights of DistilBertForSequenceClassification were not initialized from the model checkpoint at distilbert-base-uncased and are newly initialized: ['classifier.bias', 'classifier.weight', 'pre_classifier.bias', 'pre_classifier.weight']\n",
      "You should probably TRAIN this model on a down-stream task to be able to use it for predictions and inference.\n",
      "Device set to use cpu\n",
      "d:\\Python_venv\\.venv\\lib\\site-packages\\transformers\\pipelines\\text_classification.py:106: UserWarning: `return_all_scores` is now deprecated,  if want a similar functionality use `top_k=None` instead of `return_all_scores=True` or `top_k=1` instead of `return_all_scores=False`.\n",
      "  warnings.warn(\n"
     ]
    }
   ],
   "source": [
    "# data = [\n",
    "#     {\n",
    "#         \"title\": \"Title: An integrative pan-cancer analysis illustrating the key role of LRP11 in cervical cancer.\",\n",
    "#         \"abstract\": \"Abstract: Low density lipoprotein receptor-related protein 11 (LRP11) was involved in the progression of several tumors. However, its role in cervical cancer still remains uncertain.\",\n",
    "#         \"label\": [1, 0]  # Cancer, Non-Cancer\n",
    "#     },\n",
    "#     {\n",
    "#         \"title\": \"Title: DMAP1 is an essential regulator of ATM activity and function.\",\n",
    "#         \"abstract\": \"Abstract: The hereditary autosomal recessive disease ataxia telangiectasia (A-T) is caused by mutation in the DNA damage kinase ATM. ATM's main function is to orchestrate DNA repair, thereby maintaining genomic stability.\",\n",
    "#         \"label\": [0, 1]  # Cancer, Non-Cancer\n",
    "#     }\n",
    "# ]\n",
    "\n",
    "#Base Model Results\n",
    "\n",
    "model_name = \"distilbert-base-uncased\"\n",
    "base_model = AutoModelForSequenceClassification.from_pretrained(model_name, num_labels=len(mlb.classes_))\n",
    "\n",
    "tokenizer = AutoTokenizer.from_pretrained(model_name)\n",
    "\n",
    "# Create classifier pipeline\n",
    "classifier = pipeline(\"text-classification\", model=base_model, tokenizer=tokenizer, return_all_scores=True)\n",
    "\n",
    "# Process and evaluate\n",
    "y_true = []\n",
    "y_pred = []\n",
    "\n"
   ]
  },
  {
   "cell_type": "code",
   "execution_count": 16,
   "metadata": {},
   "outputs": [
    {
     "name": "stdout",
     "output_type": "stream",
     "text": [
      "\n",
      "Accuracy: 0.55\n",
      "F1 Score: 0.39\n",
      "Confusion Matrix:\n",
      "[[110   0]\n",
      " [ 90   0]]\n"
     ]
    }
   ],
   "source": [
    "for item in test_dataset_base:\n",
    "    #text = item[\"title\"] + \" \" + item[\"abstract\"]\n",
    "    text = item[\"Title_Abstract\"]\n",
    "    outputs = classifier(text, truncation=True)[0]\n",
    "\n",
    "    # Extract confidence and predicted labels\n",
    "    confidence_scores = {output[\"label\"]: output[\"score\"] for output in outputs}\n",
    "    predicted_labels = [1 if confidence_scores.get(f\"LABEL_{i}\", 0) > 0.5 else 0 for i in range(2)]\n",
    "\n",
    "    #y_true.append(item[\"label_ids\"])\n",
    "    y_true.append(item[\"label_ids\"])\n",
    "    y_pred.append(predicted_labels)\n",
    "\n",
    "    # # Output\n",
    "    # print(\"Predicted Categories:\")\n",
    "    # print({\"predicted_labels\": [\"Cancer\" if predicted_labels[0] else \"Non-Cancer\"]})\n",
    "    # print(\"\\nConfidence Scores for Each Category:\")\n",
    "    # print({\n",
    "    #     \"Cancer\": confidence_scores.get(\"LABEL_0\", 0),\n",
    "    #     \"Non-Cancer\": confidence_scores.get(\"LABEL_1\", 0)\n",
    "    # })\n",
    "    # print(\"-\" * 40)\n",
    "\n",
    "# Convert multi-hot vectors to flat for evaluation\n",
    "y_true_flat = [label.index(1) for label in y_true]\n",
    "y_pred_flat = [label.index(1) for label in y_pred]\n",
    "\n",
    "# Metrics\n",
    "accuracy = accuracy_score(y_true_flat, y_pred_flat)\n",
    "f1 = f1_score(y_true_flat, y_pred_flat, average='weighted')\n",
    "cm = confusion_matrix(y_true_flat, y_pred_flat)\n",
    "\n",
    "print(f\"\\nAccuracy: {accuracy:.2f}\")\n",
    "print(f\"F1 Score: {f1:.2f}\")\n",
    "print(\"Confusion Matrix:\")\n",
    "print(cm)\n"
   ]
  },
  {
   "cell_type": "code",
   "execution_count": null,
   "metadata": {},
   "outputs": [],
   "source": []
  }
 ],
 "metadata": {
  "kernelspec": {
   "display_name": ".venv",
   "language": "python",
   "name": "python3"
  },
  "language_info": {
   "codemirror_mode": {
    "name": "ipython",
    "version": 3
   },
   "file_extension": ".py",
   "mimetype": "text/x-python",
   "name": "python",
   "nbconvert_exporter": "python",
   "pygments_lexer": "ipython3",
   "version": "3.10.10"
  }
 },
 "nbformat": 4,
 "nbformat_minor": 2
}
